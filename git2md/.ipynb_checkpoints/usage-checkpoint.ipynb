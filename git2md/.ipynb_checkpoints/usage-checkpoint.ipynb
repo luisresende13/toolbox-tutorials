{
 "cells": [
  {
   "cell_type": "code",
   "execution_count": 1,
   "id": "e3d3b71c-8230-4c04-8896-4a91beba06d7",
   "metadata": {},
   "outputs": [
    {
     "name": "stdout",
     "output_type": "stream",
     "text": [
      "Collecting git2md\n",
      "  Downloading git2md-1.1.7-py3-none-any.whl.metadata (7.3 kB)\n",
      "Collecting pathspec (from git2md)\n",
      "  Using cached pathspec-0.12.1-py3-none-any.whl.metadata (21 kB)\n",
      "Downloading git2md-1.1.7-py3-none-any.whl (13 kB)\n",
      "Using cached pathspec-0.12.1-py3-none-any.whl (31 kB)\n",
      "Installing collected packages: pathspec, git2md\n",
      "Successfully installed git2md-1.1.7 pathspec-0.12.1\n"
     ]
    }
   ],
   "source": [
    "!pip install git2md"
   ]
  },
  {
   "cell_type": "code",
   "execution_count": null,
   "id": "732adf17-9d2f-4c30-bf2b-b411ab66818b",
   "metadata": {},
   "outputs": [],
   "source": [
    "!git2md ../fg-ai/issue-summary --ignore \"./data/\" -o output.md"
   ]
  }
 ],
 "metadata": {
  "kernelspec": {
   "display_name": "Python 3 (ipykernel)",
   "language": "python",
   "name": "python3"
  },
  "language_info": {
   "codemirror_mode": {
    "name": "ipython",
    "version": 3
   },
   "file_extension": ".py",
   "mimetype": "text/x-python",
   "name": "python",
   "nbconvert_exporter": "python",
   "pygments_lexer": "ipython3",
   "version": "3.12.3"
  }
 },
 "nbformat": 4,
 "nbformat_minor": 5
}

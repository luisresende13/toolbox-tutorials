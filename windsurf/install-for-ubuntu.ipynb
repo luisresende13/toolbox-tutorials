{
 "cells": [
  {
   "cell_type": "markdown",
   "id": "6ff663b8-5651-47bf-9b27-ec44d9b2fd26",
   "metadata": {},
   "source": [
    "# Download instructions for Ubuntu and other deb-based Linux distributions\n",
    "\n",
    "### 1. Add the repository to sources.list.d\n",
    "\n",
    "``` bash\n",
    "curl -fsSL \"https://windsurf-stable.codeiumdata.com/wVxQEIWkwPUEAGf3/windsurf.gpg\" | sudo gpg --dearmor -o /usr/share/keyrings/windsurf-stable-archive-keyring.gpg\n",
    "echo \"deb [signed-by=/usr/share/keyrings/windsurf-stable-archive-keyring.gpg arch=amd64] https://windsurf-stable.codeiumdata.com/wVxQEIWkwPUEAGf3/apt stable main\" | sudo tee /etc/apt/sources.list.d/windsurf.list > /dev/null\n",
    "```\n",
    "\n",
    "### 2. Update\n",
    "\n",
    "``` bash\n",
    "sudo apt-get update\n",
    "```\n",
    "\n",
    "### 3. Install\n",
    "\n",
    "``` bash\n",
    "sudo apt-get upgrade windsurf\n",
    "```"
   ]
  }
 ],
 "metadata": {
  "kernelspec": {
   "display_name": "Python 3 (ipykernel)",
   "language": "python",
   "name": "python3"
  },
  "language_info": {
   "codemirror_mode": {
    "name": "ipython",
    "version": 3
   },
   "file_extension": ".py",
   "mimetype": "text/x-python",
   "name": "python",
   "nbconvert_exporter": "python",
   "pygments_lexer": "ipython3",
   "version": "3.12.3"
  }
 },
 "nbformat": 4,
 "nbformat_minor": 5
}

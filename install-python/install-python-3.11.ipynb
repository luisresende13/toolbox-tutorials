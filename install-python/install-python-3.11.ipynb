{
 "cells": [
  {
   "cell_type": "markdown",
   "id": "2157730d-573b-4ec2-9b96-3283c64310d9",
   "metadata": {},
   "source": [
    "# Install Python 3.11"
   ]
  },
  {
   "cell_type": "markdown",
   "id": "ae48629c-95d4-4405-a9e4-02148564e713",
   "metadata": {},
   "source": [
    "### Requirements:\n",
    "- Os: Ubuntu 22.04"
   ]
  },
  {
   "cell_type": "markdown",
   "id": "c8fbd2b4-7ce5-41ce-8493-86cca13440a0",
   "metadata": {},
   "source": [
    "### 1. **Update the package list:**\n",
    "```bash\n",
    "sudo apt update\n",
    "```\n",
    "\n",
    "### 2. **Add the deadsnakes PPA (for newer Python versions):**\n",
    "```bash\n",
    "sudo add-apt-repository ppa:deadsnakes/ppa\n",
    "sudo apt update\n",
    "```\n",
    "\n",
    "### 3. **Install Python 3.11:**\n",
    "```bash\n",
    "sudo apt install python3.11\n",
    "```\n",
    "\n",
    "### 4. **Optional - Install pip for Python 3.11:**\n",
    "```bash\n",
    "sudo apt install python3.11-distutils\n",
    "curl -sS https://bootstrap.pypa.io/get-pip.py | python3.11\n",
    "```\n",
    "\n",
    "### 5. **Verify Installation:**\n",
    "Check the Python version:\n",
    "```bash\n",
    "python3.11 --version\n",
    "```"
   ]
  },
  {
   "cell_type": "markdown",
   "id": "d699db39-5620-4848-9d68-3580db4cb889",
   "metadata": {},
   "source": [
    "---\n",
    "# Install python3.11-venv"
   ]
  },
  {
   "cell_type": "markdown",
   "id": "1656e451-70c8-4957-9d2e-740a1ed30454",
   "metadata": {},
   "source": [
    "### Requirements:\n",
    "- Os: Ubuntu 22.04\n",
    "- Python: version 3.11"
   ]
  },
  {
   "cell_type": "markdown",
   "id": "3ced367c-a69c-4187-ae18-eefb9eb8bb31",
   "metadata": {},
   "source": [
    "### **Install venv for python 3.11:**\n",
    "\n",
    "1. **Install the `python3.11-venv` package:**\n",
    "This package is required for creating virtual environments in Python 3.11.\n",
    "\n",
    "```bash\n",
    "sudo apt install python3.11-venv\n",
    "```\n",
    "\n",
    "### **Usage:**\n",
    "\n",
    "2. **Create a virtual environment:**\n",
    "```bash\n",
    "python3.11 -m venv /path/to/my_env_name\n",
    "```\n",
    "\n",
    "3. **Activate the environment:**\n",
    "```bash\n",
    "source /path/to/my_env_name/bin/activate\n",
    "```\n",
    "\n",
    "4. **Deactivate the environment:**\n",
    "```bash\n",
    "deactivate\n",
    "```"
   ]
  }
 ],
 "metadata": {
  "kernelspec": {
   "display_name": "Python 3 (ipykernel)",
   "language": "python",
   "name": "python3"
  },
  "language_info": {
   "codemirror_mode": {
    "name": "ipython",
    "version": 3
   },
   "file_extension": ".py",
   "mimetype": "text/x-python",
   "name": "python",
   "nbconvert_exporter": "python",
   "pygments_lexer": "ipython3",
   "version": "3.12.3"
  }
 },
 "nbformat": 4,
 "nbformat_minor": 5
}

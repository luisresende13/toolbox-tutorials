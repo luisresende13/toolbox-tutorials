{
 "cells": [
  {
   "cell_type": "markdown",
   "id": "1b9f9687-2490-4075-b3b3-c5b65528d448",
   "metadata": {},
   "source": [
    "# Install Python 3.11"
   ]
  },
  {
   "cell_type": "markdown",
   "id": "cfed393a-e082-407a-b93d-38bd0a1328a5",
   "metadata": {},
   "source": [
    "### Requirements:\n",
    "- Os: Ubuntu 22.04"
   ]
  },
  {
   "cell_type": "markdown",
   "id": "cb099b35-13dc-42d4-b2a1-32f72a5536e6",
   "metadata": {},
   "source": [
    "To install Python 3.10 on Ubuntu, follow these steps:\n",
    "\n",
    "### Step 1: Update Package List\n",
    "First, make sure your package list is up-to-date:\n",
    "```bash\n",
    "sudo apt update\n",
    "```\n",
    "\n",
    "### Step 2: Install Prerequisites (Optional)\n",
    "Install required dependencies to build Python from source (if you choose to build it yourself), but in most cases, the following command should suffice to install Python 3.10 directly from a repository:\n",
    "```bash\n",
    "sudo apt install -y software-properties-common\n",
    "```\n",
    "\n",
    "### Step 3: Add the Deadsnakes PPA\n",
    "The official Ubuntu repositories might not have the latest Python versions. To get Python 3.10, you can use the `deadsnakes` PPA (Personal Package Archive) which provides newer Python versions for Ubuntu:\n",
    "```bash\n",
    "sudo add-apt-repository ppa:deadsnakes/ppa\n",
    "```\n",
    "\n",
    "### Step 4: Install Python 3.10\n",
    "Now, install Python 3.10:\n",
    "```bash\n",
    "sudo apt update\n",
    "sudo apt install python3.10\n",
    "```\n",
    "\n",
    "### Step 5: Verify Installation\n",
    "Check the installed version of Python:\n",
    "```bash\n",
    "python3.10 --version\n",
    "```\n",
    "\n",
    "### Step 6: Set Python 3.10 as Default (Optional)\n",
    "If you'd like Python 3.10 to be the default version of Python 3, you can update the symbolic link to point to Python 3.10. Here's how:\n",
    "\n",
    "1. Check the current Python 3 version:\n",
    "   ```bash\n",
    "   python3 --version\n",
    "   ```\n",
    "\n",
    "2. Update the `python3` symbolic link to point to Python 3.10:\n",
    "   ```bash\n",
    "   sudo update-alternatives --install /usr/bin/python3 python3 /usr/bin/python3.10 1\n",
    "   ```\n",
    "\n",
    "3. To select the default Python version (if you have multiple versions installed):\n",
    "   ```bash\n",
    "   sudo update-alternatives --config python3\n",
    "   ```\n",
    "\n",
    "   You will be prompted to select the version you want to use as the default. Enter the number corresponding to Python 3.10.\n",
    "\n",
    "### Step 7: Install pip for Python 3.10\n",
    "You might also need to install `pip` for Python 3.10:\n",
    "```bash\n",
    "sudo apt install python3.10-distutils\n",
    "wget https://bootstrap.pypa.io/get-pip.py\n",
    "python3.10 get-pip.py\n",
    "```\n",
    "\n",
    "### Step 8: Verify pip Installation\n",
    "Finally, verify that `pip` is working for Python 3.10:\n",
    "```bash\n",
    "python3.10 -m pip --version\n",
    "```\n",
    "\n",
    "### Optional: Install Virtual Environment for Python 3.10\n",
    "If you need to create a virtual environment using Python 3.10, install the `venv` package:\n",
    "```bash\n",
    "sudo apt install python3.10-venv\n",
    "```\n",
    "\n",
    "You can then create a virtual environment with:\n",
    "```bash\n",
    "python3.10 -m venv myenv\n",
    "```\n",
    "\n",
    "This will install Python 3.10 on your Ubuntu system."
   ]
  }
 ],
 "metadata": {
  "kernelspec": {
   "display_name": "Python 3 (ipykernel)",
   "language": "python",
   "name": "python3"
  },
  "language_info": {
   "codemirror_mode": {
    "name": "ipython",
    "version": 3
   },
   "file_extension": ".py",
   "mimetype": "text/x-python",
   "name": "python",
   "nbconvert_exporter": "python",
   "pygments_lexer": "ipython3",
   "version": "3.12.3"
  }
 },
 "nbformat": 4,
 "nbformat_minor": 5
}

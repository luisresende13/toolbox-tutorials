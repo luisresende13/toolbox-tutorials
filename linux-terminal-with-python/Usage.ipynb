{
 "cells": [
  {
   "cell_type": "markdown",
   "id": "4e8402b9-f4f2-4bdc-86ce-665bf98ae364",
   "metadata": {},
   "source": [
    "# Use terminal with Python for Ubuntu 22.04"
   ]
  },
  {
   "cell_type": "markdown",
   "id": "9e62f586-b203-47db-94b1-caeb9bceb839",
   "metadata": {},
   "source": [
    "Different ways to interact with ubuntu 22.04 terminal using python"
   ]
  },
  {
   "cell_type": "markdown",
   "id": "036cf4fd-5fad-47fe-97d1-b4e55d24efa5",
   "metadata": {},
   "source": [
    "#### Requirements:\n",
    "- OS: Ubuntu 22.04\n",
    "- Python: version 3.x"
   ]
  },
  {
   "cell_type": "markdown",
   "id": "4c660baa-371e-4121-9abd-3bfb484ba2ca",
   "metadata": {},
   "source": [
    "#### Open temporary terminal window"
   ]
  },
  {
   "cell_type": "markdown",
   "id": "e6abd7d3-3251-45ac-9d18-cef10dac5783",
   "metadata": {},
   "source": [
    "Opens terminal in a new window and closes it after the command finishes.\n",
    "\n",
    "It is compatible with getting user input as well directly on the terminal window."
   ]
  },
  {
   "cell_type": "code",
   "execution_count": 3,
   "id": "7ecf0fb6-17d0-4662-a4d5-bdc3bd3dab14",
   "metadata": {},
   "outputs": [],
   "source": [
    "import subprocess\n",
    "\n",
    "def open_terminal_with_command(command):\n",
    "    # This command opens a new terminal window and runs the specified command inside it.\n",
    "    # `gnome-terminal` is common on Ubuntu and other GNOME-based desktops.\n",
    "    subprocess.run(['gnome-terminal', '--', 'bash', '-c', command])\n",
    "\n",
    "# Example usage:\n",
    "command = \"python3 -c 'import time; inp = input(\\\"Do you want to continue? (y/n)\\\"); print(f\\\"User Input: {inp}\\\"); time.sleep(5)'\"\n",
    "open_terminal_with_command(command)\n"
   ]
  },
  {
   "cell_type": "markdown",
   "id": "32594c3c-abfb-4057-968a-45564ae27850",
   "metadata": {},
   "source": [
    "#### Open permanent terminal window"
   ]
  },
  {
   "cell_type": "markdown",
   "id": "d62bfc2e-3ba8-41ba-a975-bffa4ef8c1ce",
   "metadata": {},
   "source": [
    "Opens new terminal window and finishes execution.\n",
    "\n",
    "The terminal window remains open after the execution."
   ]
  },
  {
   "cell_type": "code",
   "execution_count": 6,
   "id": "1c66c3ab-8087-457c-ada1-7c472f3f32a8",
   "metadata": {},
   "outputs": [],
   "source": [
    "import subprocess\n",
    "\n",
    "def open_terminal_with_command(command):\n",
    "    # This command opens a new terminal window and runs the specified command inside it.\n",
    "    # `gnome-terminal` is common on Ubuntu and other GNOME-based desktops.\n",
    "    subprocess.run(['gnome-terminal', '--', 'bash'])\n",
    "\n",
    "# Example usage:\n",
    "command = \"python3 -c 'import time; inp = input(\\\"Do you want to continue? (y/n)\\\"); print(f\\\"User Input: {inp}\\\"); time.sleep(5)'\"\n",
    "open_terminal_with_command(command)\n"
   ]
  },
  {
   "cell_type": "markdown",
   "id": "b7853f3f-3180-45ae-9110-39a642c6d875",
   "metadata": {},
   "source": [
    "#### Open temporary terminal window and returns the command output"
   ]
  },
  {
   "cell_type": "markdown",
   "id": "99d5dbd8-2d01-403d-93ae-a40330f09b76",
   "metadata": {},
   "source": [
    "Opens terminal in a new window and closes it after the command finishes while returning the terminal output to python.\n",
    "\n",
    "It is compatible with getting user input as well directly on the terminal window."
   ]
  },
  {
   "cell_type": "code",
   "execution_count": 39,
   "id": "3258afe4-2eb5-4a16-a8e7-7ca38a9f1d99",
   "metadata": {},
   "outputs": [
    {
     "name": "stdout",
     "output_type": "stream",
     "text": [
      "Command Output (captured):\n",
      "total 20\n",
      "drwxrwxr-x  3 luisresende luisresende 4096 jan 12 14:49 .\n",
      "drwxrwxr-x 10 luisresende luisresende 4096 jan 12 14:57 ..\n",
      "drwxrwxr-x  2 luisresende luisresende 4096 jan 12 13:31 .ipynb_checkpoints\n",
      "-rw-rw-r--  1 luisresende luisresende 7525 jan 12 14:49 Testing.ipynb\n",
      "\n"
     ]
    }
   ],
   "source": [
    "import subprocess\n",
    "import time\n",
    "\n",
    "def run_command_in_new_terminal_with_output_async(command, output_file):\n",
    "    try:\n",
    "        # Use 'tee' to duplicate output to both the terminal and the file\n",
    "        full_command = f\"gnome-terminal -- bash -c '{command} | tee {output_file}; exec bash'\"\n",
    "        # Launch the command\n",
    "        subprocess.Popen(full_command, shell=True)\n",
    "        # Wait a bit to ensure the command writes to the file\n",
    "        time.sleep(2)  # Adjust the sleep time if needed\n",
    "        # Read the output from the file\n",
    "        with open(output_file, \"r\") as f:\n",
    "            return f.read()\n",
    "    except Exception as e:\n",
    "        return str(e)\n",
    "\n",
    "if __name__ == \"__main__\":\n",
    "    command = \"ls -la\"\n",
    "    output_file = \"/tmp/command_output.txt\"\n",
    "    output = run_command_in_new_terminal_with_output(command, output_file)\n",
    "    print(\"Command Output (captured):\")\n",
    "    print(output)\n"
   ]
  },
  {
   "cell_type": "markdown",
   "id": "2e871802-cd12-464b-8255-87b16811189f",
   "metadata": {},
   "source": [
    "#### Open non-temporary terminal window and returns the command output (waits for command to finish)"
   ]
  },
  {
   "cell_type": "code",
   "execution_count": 41,
   "id": "86cc6b34-a5ea-46aa-bed8-6ff4889872a2",
   "metadata": {},
   "outputs": [
    {
     "name": "stdout",
     "output_type": "stream",
     "text": [
      "Command Output (captured):\n",
      "total 24\n",
      "drwxrwxr-x  3 luisresende luisresende 4096 jan 12 15:27 .\n",
      "drwxrwxr-x 10 luisresende luisresende 4096 jan 12 14:57 ..\n",
      "drwxrwxr-x  2 luisresende luisresende 4096 jan 12 13:31 .ipynb_checkpoints\n",
      "-rw-rw-r--  1 luisresende luisresende 9573 jan 12 15:27 Testing.ipynb\n",
      "\n"
     ]
    }
   ],
   "source": [
    "import subprocess\n",
    "import time\n",
    "import os\n",
    "\n",
    "def run_command_in_new_terminal_with_output_sync(command, output_file):\n",
    "    try:\n",
    "        # Marker file to indicate command completion\n",
    "        marker_file = output_file + \".done\"\n",
    "        # Remove marker file if it exists\n",
    "        if os.path.exists(marker_file):\n",
    "            os.remove(marker_file)\n",
    "        \n",
    "        # Full command with a marker file to signal completion\n",
    "        full_command = (\n",
    "            f\"gnome-terminal -- bash -c \"\n",
    "            f\"'{command} | tee {output_file}; touch {marker_file}; exec bash'\"\n",
    "        )\n",
    "        \n",
    "        # Launch the command in a new terminal\n",
    "        subprocess.Popen(full_command, shell=True)\n",
    "        \n",
    "        # Wait for the marker file to appear, indicating the command is done\n",
    "        while not os.path.exists(marker_file):\n",
    "            time.sleep(0.1)  # Polling interval\n",
    "        \n",
    "        # Read the output from the file\n",
    "        with open(output_file, \"r\") as f:\n",
    "            return f.read()\n",
    "    except Exception as e:\n",
    "        return str(e)\n",
    "\n",
    "if __name__ == \"__main__\":\n",
    "    command = \"ls -la\"\n",
    "    output_file = \"/tmp/command_output.txt\"\n",
    "    output = run_command_in_new_terminal_with_output_sync(command, output_file)\n",
    "    print(\"Command Output (captured):\")\n",
    "    print(output)\n"
   ]
  },
  {
   "cell_type": "markdown",
   "id": "f4375c3f-1100-4e13-b741-cd24aad619a0",
   "metadata": {},
   "source": [
    "#### Run command in new shell without terminal window"
   ]
  },
  {
   "cell_type": "code",
   "execution_count": 34,
   "id": "415c2984-1ab6-4c8c-bf2b-d7ee26eb8999",
   "metadata": {},
   "outputs": [
    {
     "name": "stdout",
     "output_type": "stream",
     "text": [
      "Command Output (captured):\n",
      "total 24\n",
      "drwxrwxr-x 3 luisresende luisresende  4096 jan 12 14:07 .\n",
      "drwxrwxr-x 9 luisresende luisresende  4096 jan 12 13:30 ..\n",
      "drwxrwxr-x 2 luisresende luisresende  4096 jan 12 13:31 .ipynb_checkpoints\n",
      "-rw-rw-r-- 1 luisresende luisresende 10687 jan 12 14:07 Testing.ipynb\n"
     ]
    }
   ],
   "source": [
    "def run_terminal(command: str) -> str:\n",
    "    \"\"\"\n",
    "    Runs a terminal command on Ubuntu and returns the output.\n",
    "\n",
    "    Args:\n",
    "        command (str): The terminal command to run.\n",
    "\n",
    "    Returns:\n",
    "        str: The output of the command as a string. \n",
    "             If an error occurs, returns the error message.\n",
    "    \"\"\"\n",
    "    try:\n",
    "        # Run the command and capture the output\n",
    "        result = subprocess.run(command, shell=True, text=True, capture_output=True, check=True)\n",
    "        \n",
    "        # Return the standard output of the command\n",
    "        return result.stdout.strip()\n",
    "    \n",
    "    except subprocess.CalledProcessError as e:\n",
    "        # If an error occurs, return the error message\n",
    "        return f\"Error executing command: {e.stderr.strip()}\"\n",
    "    \n",
    "    except Exception as e:\n",
    "        # Catch any other exceptions\n",
    "        return f\"Unexpected error: {str(e)}\"\n",
    "\n",
    "command = \"ls -la\"\n",
    "output = run_terminal(command)\n",
    "print(\"Command Output (captured):\")\n",
    "print(output)"
   ]
  }
 ],
 "metadata": {
  "kernelspec": {
   "display_name": "Python 3 (ipykernel)",
   "language": "python",
   "name": "python3"
  },
  "language_info": {
   "codemirror_mode": {
    "name": "ipython",
    "version": 3
   },
   "file_extension": ".py",
   "mimetype": "text/x-python",
   "name": "python",
   "nbconvert_exporter": "python",
   "pygments_lexer": "ipython3",
   "version": "3.12.3"
  }
 },
 "nbformat": 4,
 "nbformat_minor": 5
}
